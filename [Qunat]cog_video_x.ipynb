{
  "nbformat": 4,
  "nbformat_minor": 0,
  "metadata": {
    "colab": {
      "provenance": [],
      "machine_shape": "hm",
      "gpuType": "T4"
    },
    "kernelspec": {
      "name": "python3",
      "display_name": "Python 3"
    },
    "language_info": {
      "name": "python"
    },
    "accelerator": "GPU"
  },
  "cells": [
    {
      "cell_type": "markdown",
      "source": [
        "## Setup and Imports"
      ],
      "metadata": {
        "id": "_qtvSeCTof6J"
      }
    },
    {
      "cell_type": "code",
      "source": [
        "!pip install -Uq diffusers\n",
        "!pip install -Uq transformers\n",
        "!pip install -Uq bitsandbytes"
      ],
      "metadata": {
        "id": "U4PgrL5Iekus"
      },
      "execution_count": null,
      "outputs": []
    },
    {
      "cell_type": "code",
      "source": [
        "from transformers import T5EncoderModel\n",
        "from transformers import BitsAndBytesConfig as TransformersBitsAndBytesConfig\n",
        "\n",
        "from diffusers import CogVideoXTransformer3DModel, AutoencoderKLCogVideoX\n",
        "from diffusers import BitsAndBytesConfig as DiffusersBitsAndBytesConfig\n",
        "import torch"
      ],
      "metadata": {
        "id": "sUOkjzQReoYm"
      },
      "execution_count": null,
      "outputs": []
    },
    {
      "cell_type": "markdown",
      "source": [
        "# Text Encoders"
      ],
      "metadata": {
        "id": "vzFt8ATxizSE"
      }
    },
    {
      "cell_type": "code",
      "source": [
        "model_id = \"THUDM/CogVideoX-5b\"\n",
        "\n",
        "nf4_config = TransformersBitsAndBytesConfig(\n",
        "    load_in_4bit=True,\n",
        "    bnb_4bit_quant_type=\"nf4\",\n",
        "    bnb_4bit_compute_dtype=torch.float16,\n",
        ")\n",
        "\n",
        "text_encoder = T5EncoderModel.from_pretrained(\n",
        "    model_id, subfolder=\"text_encoder\",\n",
        "    quantization_config=nf4_config,\n",
        "    torch_dtype=torch.float16\n",
        ")"
      ],
      "metadata": {
        "id": "bDiDj3zji0zH"
      },
      "execution_count": null,
      "outputs": []
    },
    {
      "cell_type": "code",
      "source": [
        "text_encoder.save_pretrained(\"text_encoder\")"
      ],
      "metadata": {
        "id": "N5VaDZa1jZy7"
      },
      "execution_count": null,
      "outputs": []
    },
    {
      "cell_type": "markdown",
      "source": [
        "## Diffusion Transformers"
      ],
      "metadata": {
        "id": "cJAEOmxGkpD8"
      }
    },
    {
      "cell_type": "code",
      "execution_count": null,
      "metadata": {
        "id": "stm1Vy4ceR9m"
      },
      "outputs": [],
      "source": [
        "model_id = \"THUDM/CogVideoX-5b\"\n",
        "\n",
        "nf4_config = DiffusersBitsAndBytesConfig(\n",
        "    load_in_4bit=True,\n",
        "    bnb_4bit_quant_type=\"nf4\",\n",
        "    bnb_4bit_compute_dtype=torch.float16,\n",
        ")\n",
        "\n",
        "transformer = CogVideoXTransformer3DModel.from_pretrained(\n",
        "    model_id,\n",
        "    subfolder=\"transformer\",\n",
        "    quantization_config=nf4_config,\n",
        "    torch_dtype=torch.float16\n",
        ")\n",
        "vae = AutoencoderKLCogVideoX.from_pretrained(\n",
        "    model_id,\n",
        "    subfolder=\"vae\",\n",
        "    quantization_config=nf4_config,\n",
        "    torch_dtype=torch.float16\n",
        ")"
      ]
    },
    {
      "cell_type": "code",
      "source": [
        "transformer.save_pretrained(\"transformer\")\n",
        "vae.save_pretrained(\"vae\")"
      ],
      "metadata": {
        "id": "EMbNLvZRk_Nw"
      },
      "execution_count": null,
      "outputs": []
    },
    {
      "cell_type": "markdown",
      "source": [
        "## Upload the model to Hub"
      ],
      "metadata": {
        "id": "asV0iPg1orqP"
      }
    },
    {
      "cell_type": "code",
      "source": [
        "from huggingface_hub import create_repo, upload_folder\n",
        "\n",
        "repo_id = create_repo(repo_id=\"ariG23498/CogVideoX-5b-nf4-pkg\", private=True, repo_type=\"model\").repo_id\n",
        "\n",
        "upload_folder(repo_id=repo_id, folder_path=\"text_encoder\", path_in_repo=\"text_encoder\")\n",
        "upload_folder(repo_id=repo_id, folder_path=\"transformer\", path_in_repo=\"transformer\")\n",
        "upload_folder(repo_id=repo_id, folder_path=\"vae\", path_in_repo=\"vae\")"
      ],
      "metadata": {
        "id": "3yzoziepow1Z"
      },
      "execution_count": null,
      "outputs": []
    }
  ]
}